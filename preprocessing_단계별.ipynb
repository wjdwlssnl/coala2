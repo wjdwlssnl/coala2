{
 "cells": [
  {
   "cell_type": "markdown",
   "metadata": {},
   "source": [
    "**크롤링 된 csv파일을 전처리 후 인코딩된 matrix로 변환한다**"
   ]
  },
  {
   "cell_type": "markdown",
   "metadata": {},
   "source": [
    "# 0. import, 함수정의"
   ]
  },
  {
   "cell_type": "code",
   "execution_count": 1,
   "metadata": {},
   "outputs": [],
   "source": [
    "import pandas as pd\n",
    "import numpy as np\n",
    "import re\n",
    "import joblib\n",
    "from konlpy.tag import *\n",
    "from modules import *\n",
    "from sklearn.feature_extraction.text import TfidfVectorizer"
   ]
  },
  {
   "cell_type": "code",
   "execution_count": 2,
   "metadata": {},
   "outputs": [
    {
     "name": "stdout",
     "output_type": "stream",
     "text": [
      "Requirement already satisfied: joblib in c:\\users\\user\\anaconda3\\lib\\site-packages (0.14.1)\n",
      "Note: you may need to restart the kernel to use updated packages.\n"
     ]
    }
   ],
   "source": [
    "pip install joblib"
   ]
  },
  {
   "cell_type": "markdown",
   "metadata": {},
   "source": [
    "# 1. csv 및 필요한 파일 불러오기"
   ]
  },
  {
   "cell_type": "code",
   "execution_count": 3,
   "metadata": {},
   "outputs": [],
   "source": [
    "# csv\n",
    "df_a=pd.read_csv(\"appended/new.csv\")\n",
    "\n",
    "# 사용자 사전\n",
    "komoran=Komoran(userdic='userdict.txt')\n",
    "\n",
    "# 품사 리스트\n",
    "pos=pd.read_csv('pos_table.txt', header=None, names='p')\n",
    "poslist=pos.p.tolist()\n",
    "\n",
    "# 불용어 리스트\n",
    "stopwords=pd.read_excel(\"stopwords.xlsx\")\n",
    "stoplist=np.array(stopwords.words.tolist())"
   ]
  },
  {
   "cell_type": "markdown",
   "metadata": {},
   "source": [
    "# 2. 의미없는 부분 제거"
   ]
  },
  {
   "cell_type": "code",
   "execution_count": 4,
   "metadata": {},
   "outputs": [
    {
     "name": "stdout",
     "output_type": "stream",
     "text": [
      "cleaning...\n"
     ]
    }
   ],
   "source": [
    "#전체 행에 전처리 적용\n",
    "print('cleaning...')\n",
    "df_a['content']=df_a.content.apply(cleaning)\n",
    "\n",
    "#확인\n",
    "#print(df_a.content.values[0])"
   ]
  },
  {
   "cell_type": "markdown",
   "metadata": {},
   "source": [
    "# 3. 형태소 분석기 이용해 토큰화"
   ]
  },
  {
   "cell_type": "code",
   "execution_count": 5,
   "metadata": {},
   "outputs": [
    {
     "name": "stdout",
     "output_type": "stream",
     "text": [
      "tokenizing...\n"
     ]
    }
   ],
   "source": [
    "print('tokenizing...')"
   ]
  },
  {
   "cell_type": "code",
   "execution_count": 6,
   "metadata": {},
   "outputs": [],
   "source": [
    "# 전체 행에 품사 부착 -> 각 행은 ('word', '품사') 튜플의 리스트 <-오래걸림 \n",
    "df_a['content']=df_a.content.apply(komoran.pos)"
   ]
  },
  {
   "cell_type": "code",
   "execution_count": 7,
   "metadata": {},
   "outputs": [],
   "source": [
    "# 전체 행에 품사추출함수 적용\n",
    "df_a['content']=df_a.content.apply(PosPicker)"
   ]
  },
  {
   "cell_type": "code",
   "execution_count": 8,
   "metadata": {},
   "outputs": [],
   "source": [
    "# 전체 행을 다시 형태소 리스트로 변환\n",
    "df_a['content']=df_a.content.apply(komoran.morphs)"
   ]
  },
  {
   "cell_type": "markdown",
   "metadata": {},
   "source": [
    "# 4. 불용어 제거"
   ]
  },
  {
   "cell_type": "code",
   "execution_count": 9,
   "metadata": {},
   "outputs": [
    {
     "name": "stdout",
     "output_type": "stream",
     "text": [
      "erasing stopwords...\n"
     ]
    }
   ],
   "source": [
    "# 전체 행에 불용어 제거 함수 적용\n",
    "print('erasing stopwords...')\n",
    "df_a['content']=df_a.content.apply(DelStops)\n",
    "\n",
    "#확인\n",
    "#print(df_a.content[0])"
   ]
  },
  {
   "cell_type": "code",
   "execution_count": 10,
   "metadata": {},
   "outputs": [
    {
     "data": {
      "text/plain": [
       "0      1.0\n",
       "1      1.0\n",
       "2      1.0\n",
       "3      1.0\n",
       "4      1.0\n",
       "      ... \n",
       "504    0.0\n",
       "505    0.0\n",
       "506    0.0\n",
       "507    0.0\n",
       "508    0.0\n",
       "Name: isad, Length: 509, dtype: float64"
      ]
     },
     "execution_count": 10,
     "metadata": {},
     "output_type": "execute_result"
    }
   ],
   "source": [
    "df_a.isad"
   ]
  },
  {
   "cell_type": "markdown",
   "metadata": {},
   "source": [
    "# 5. 정수 인코딩"
   ]
  },
  {
   "cell_type": "code",
   "execution_count": 11,
   "metadata": {},
   "outputs": [],
   "source": [
    "# 전체 행에 대해 문장화 적용\n",
    "df_a.content=df_a.content.apply(wordjoin)"
   ]
  },
  {
   "cell_type": "code",
   "execution_count": 12,
   "metadata": {
    "collapsed": true
   },
   "outputs": [
    {
     "name": "stdout",
     "output_type": "stream",
     "text": [
      "encoding...\n",
      "number of encoded features : 9762\n",
      "dimension of feature_matrix : (509, 9762)\n"
     ]
    },
    {
     "ename": "NameError",
     "evalue": "name 'joblib' is not defined",
     "output_type": "error",
     "traceback": [
      "\u001b[1;31m---------------------------------------------------------------------------\u001b[0m",
      "\u001b[1;31mNameError\u001b[0m                                 Traceback (most recent call last)",
      "\u001b[1;32m<ipython-input-12-d3b4cb5769cb>\u001b[0m in \u001b[0;36m<module>\u001b[1;34m\u001b[0m\n\u001b[0;32m     13\u001b[0m \u001b[1;33m\u001b[0m\u001b[0m\n\u001b[0;32m     14\u001b[0m \u001b[1;31m# tfid 저장\u001b[0m\u001b[1;33m\u001b[0m\u001b[1;33m\u001b[0m\u001b[1;33m\u001b[0m\u001b[0m\n\u001b[1;32m---> 15\u001b[1;33m \u001b[0mjoblib\u001b[0m\u001b[1;33m.\u001b[0m\u001b[0mdump\u001b[0m\u001b[1;33m(\u001b[0m\u001b[0mtfid\u001b[0m\u001b[1;33m,\u001b[0m \u001b[1;34m'tfid_test.pkl'\u001b[0m\u001b[1;33m)\u001b[0m\u001b[1;33m\u001b[0m\u001b[1;33m\u001b[0m\u001b[0m\n\u001b[0m",
      "\u001b[1;31mNameError\u001b[0m: name 'joblib' is not defined"
     ]
    }
   ],
   "source": [
    "print('encoding...')\n",
    "\n",
    "# TFID 생성\n",
    "tfid=TfidfVectorizer()\n",
    "\n",
    "# 문장 벡터화 (TFID)\n",
    "tfid.fit_transform(df_a.content)\n",
    "print(\"number of encoded features :\", len(tfid.get_feature_names()))\n",
    "\n",
    "# matrix로 저장 (TFID) -> 문장 수 * 단어 수 크기의 matrix가 생성된다\n",
    "feature_matrix2=tfid.transform(df_a.content)\n",
    "print(\"dimension of feature_matrix :\",feature_matrix2.shape)"
   ]
  },
  {
   "cell_type": "code",
   "execution_count": 15,
   "metadata": {},
   "outputs": [
    {
     "data": {
      "text/plain": [
       "['tfid/tfid_test.pkl']"
      ]
     },
     "execution_count": 15,
     "metadata": {},
     "output_type": "execute_result"
    }
   ],
   "source": [
    "# tfid 저장\n",
    "joblib.dump(tfid, 'tfid/tfid_test.pkl')"
   ]
  },
  {
   "cell_type": "code",
   "execution_count": null,
   "metadata": {},
   "outputs": [],
   "source": [
    "# matrix에 img, sticker, video, tags 열을 추가\n",
    "print(\"adding columns...\")\n",
    "new_matrix=np.zeros((feature_matrix2.shape[0], feature_matrix2.shape[1]+4))\n",
    "\n",
    "new_matrix[:,:-4]=feature_matrix2.toarray()\n",
    "new_matrix[:,-4]=df_a.img\n",
    "new_matrix[:,-3]=df_a.sticker\n",
    "new_matrix[:,-2]=df_a.video\n",
    "new_matrix[:,-1]=df_a.tags\n",
    "\n",
    "print(\"4 columns added successfully :\", new_matrix.shape)"
   ]
  },
  {
   "cell_type": "markdown",
   "metadata": {},
   "source": [
    "# 6. matrix 저장"
   ]
  },
  {
   "cell_type": "code",
   "execution_count": null,
   "metadata": {},
   "outputs": [],
   "source": [
    "np.save(\"matrix/new_matrix\", new_matrix)"
   ]
  },
  {
   "cell_type": "code",
   "execution_count": null,
   "metadata": {},
   "outputs": [],
   "source": []
  }
 ],
 "metadata": {
  "kernelspec": {
   "display_name": "Python 3",
   "language": "python",
   "name": "python3"
  },
  "language_info": {
   "codemirror_mode": {
    "name": "ipython",
    "version": 3
   },
   "file_extension": ".py",
   "mimetype": "text/x-python",
   "name": "python",
   "nbconvert_exporter": "python",
   "pygments_lexer": "ipython3",
   "version": "3.7.6"
  }
 },
 "nbformat": 4,
 "nbformat_minor": 4
}
